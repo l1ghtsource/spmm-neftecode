{
 "cells": [
  {
   "cell_type": "code",
   "execution_count": 2,
   "metadata": {},
   "outputs": [],
   "source": [
    "import pandas as pd"
   ]
  },
  {
   "cell_type": "code",
   "execution_count": 4,
   "metadata": {},
   "outputs": [
    {
     "name": "stdout",
     "output_type": "stream",
     "text": [
      "seed: 42\n",
      "Loading CSV data\n",
      "Creating model\n",
      "LOADING PRETRAINED MODEL..\n",
      "load checkpoint from ../checkpoint_SPMM.ckpt\n",
      "_IncompatibleKeys(missing_keys=[], unexpected_keys=['temp'])\n",
      "==================================================\n",
      "Generating SMILES embeddings...\n",
      "Processed 100/411 SMILES\n",
      "Processed 200/411 SMILES\n",
      "Processed 300/411 SMILES\n",
      "Processed 400/411 SMILES\n",
      "Processed 411/411 SMILES\n",
      "CSV with embeddings saved to lb400_embedded.csv\n",
      "==================================================\n"
     ]
    }
   ],
   "source": [
    "!cd SPMM && python \"smiles2emb.py\" --input_file \"../data/2025-04-13T06-47_export.csv\" --output_file \"lb400_embedded.csv\" --seed 42 --checkpoint \"../checkpoint_SPMM.ckpt\" --device \"cuda\""
   ]
  },
  {
   "cell_type": "code",
   "execution_count": 5,
   "metadata": {},
   "outputs": [],
   "source": [
    "data = pd.read_csv('SPMM/lb400_embedded.csv')"
   ]
  },
  {
   "cell_type": "code",
   "execution_count": 6,
   "metadata": {},
   "outputs": [],
   "source": [
    "data['emb'] = data['emb'].apply(lambda x: eval(x))\n",
    "data = data[['emb', 'PDSC']]"
   ]
  },
  {
   "cell_type": "code",
   "execution_count": 7,
   "metadata": {},
   "outputs": [],
   "source": [
    "data = data[data['PDSC'] != 0]"
   ]
  },
  {
   "cell_type": "code",
   "execution_count": 8,
   "metadata": {},
   "outputs": [],
   "source": [
    "import os\n",
    "import joblib\n",
    "import pandas as pd\n",
    "import numpy as np\n",
    "from catboost import CatBoostRegressor\n",
    "from sklearn.linear_model import Ridge\n",
    "from sklearn.decomposition import PCA\n",
    "from sklearn.model_selection import KFold\n",
    "from sklearn.metrics import mean_squared_error, mean_absolute_error, r2_score"
   ]
  },
  {
   "cell_type": "code",
   "execution_count": 9,
   "metadata": {},
   "outputs": [],
   "source": [
    "os.makedirs('models_ridge_400lb', exist_ok=True)\n",
    "\n",
    "emb_df = pd.DataFrame(data['emb'].tolist())\n",
    "emb_df.columns = [f'emb_{i}' for i in range(emb_df.shape[1])]\n",
    "X = emb_df\n",
    "\n",
    "y = data['PDSC']\n",
    "\n",
    "kf = KFold(n_splits=10, shuffle=True, random_state=42)\n",
    "oof_predictions_ridge = np.zeros(len(data))\n",
    "\n",
    "for fold, (train_index, test_index) in enumerate(kf.split(X)):\n",
    "    X_train, X_test = X.iloc[train_index], X.iloc[test_index]\n",
    "    y_train, y_test = y.iloc[train_index], y.iloc[test_index]\n",
    "\n",
    "    model_ridge = Ridge(random_state=42, alpha=5)\n",
    "    model_ridge.fit(X_train, y_train)\n",
    "\n",
    "    oof_predictions_ridge[test_index] = model_ridge.predict(X_test)\n",
    "\n",
    "    model_path = f'models_ridge_400lb/ridge_model_fold_{fold}.joblib'\n",
    "    joblib.dump(model_ridge, model_path)"
   ]
  },
  {
   "cell_type": "code",
   "execution_count": 10,
   "metadata": {},
   "outputs": [
    {
     "name": "stdout",
     "output_type": "stream",
     "text": [
      "\n",
      "Ridge Metrics\n",
      "- MSE: 689.5391\n",
      "- RMSE: 26.2591\n",
      "- MAE: 16.6126\n",
      "- R²: 0.6807\n",
      "\n"
     ]
    }
   ],
   "source": [
    "mse = mean_squared_error(y, oof_predictions_ridge)\n",
    "rmse = np.sqrt(mse)\n",
    "mae = mean_absolute_error(y, oof_predictions_ridge)\n",
    "r2 = r2_score(y, oof_predictions_ridge)\n",
    "\n",
    "print(f'''\n",
    "Ridge Metrics\n",
    "- MSE: {mse:.4f}\n",
    "- RMSE: {rmse:.4f}\n",
    "- MAE: {mae:.4f}\n",
    "- R²: {r2:.4f}\n",
    "''')"
   ]
  },
  {
   "cell_type": "code",
   "execution_count": 12,
   "metadata": {},
   "outputs": [],
   "source": [
    "from rdkit import Chem\n",
    "\n",
    "folder_path = 'SPMM/valid_molecules_with_emb_csv'\n",
    "output_path = 'SPMM/valid_molecules_with_emb_csv_LBPROB_PDSC_400'\n",
    "models_path = 'models_ridge_400lb'\n",
    "\n",
    "os.makedirs(output_path, exist_ok=True)\n",
    "\n",
    "model_files = [f for f in os.listdir(models_path) if f.endswith('.joblib')]\n",
    "models = []\n",
    "for model_file in model_files:\n",
    "    model_path = os.path.join(models_path, model_file)\n",
    "    model = joblib.load(model_path)\n",
    "    models.append(model)"
   ]
  },
  {
   "cell_type": "code",
   "execution_count": 13,
   "metadata": {},
   "outputs": [],
   "source": [
    "def prepare_for_inference(df):\n",
    "    emb_df = pd.DataFrame(df['emb'].tolist())\n",
    "    emb_df.columns = [f'emb_{i}' for i in range(emb_df.shape[1])]\n",
    "\n",
    "    return emb_df"
   ]
  },
  {
   "cell_type": "code",
   "execution_count": 14,
   "metadata": {},
   "outputs": [],
   "source": [
    "def assign_flag(smiles):\n",
    "    mol = Chem.MolFromSmiles(smiles)\n",
    "\n",
    "    aromatic_amine_pattern = Chem.MolFromSmarts('c-[NH2,NH1,NH0;!$(NC=O);!$(N=*);!$(N#*)]')\n",
    "    phenol_pattern = Chem.MolFromSmarts('c-[OH]')\n",
    "    \n",
    "    has_aromatic_amine = mol.HasSubstructMatch(aromatic_amine_pattern)\n",
    "    has_phenol = mol.HasSubstructMatch(phenol_pattern)\n",
    "    \n",
    "    if has_aromatic_amine:\n",
    "        return 'aromaamin'\n",
    "    elif has_phenol:\n",
    "        return 'fenol'\n",
    "    return 'none'"
   ]
  },
  {
   "cell_type": "code",
   "execution_count": 15,
   "metadata": {},
   "outputs": [
    {
     "name": "stderr",
     "output_type": "stream",
     "text": [
      "100%|██████████| 13/13 [00:04<00:00,  3.11it/s]\n"
     ]
    }
   ],
   "source": [
    "from tqdm import tqdm\n",
    "\n",
    "for file_name in tqdm(os.listdir(folder_path)):\n",
    "    if file_name.endswith('.csv') and file_name.startswith('valid_generated_molecules_'):\n",
    "        file_path = os.path.join(folder_path, file_name)\n",
    "        \n",
    "        df = pd.read_csv(file_path)\n",
    "        df['emb'] = df['emb'].apply(lambda x: eval(x))\n",
    "        \n",
    "        df['flag'] = df['Smiles'].apply(assign_flag)\n",
    "\n",
    "        df = df[df['flag'] != 'none']\n",
    "        df = df.reset_index(drop=True)\n",
    "        \n",
    "        X = prepare_for_inference(df)\n",
    "        \n",
    "        all_predictions = []\n",
    "        for model in models:\n",
    "            pred = model.predict(X)\n",
    "            all_predictions.append(pred)\n",
    "        \n",
    "        df['PDSC'] = np.mean(all_predictions, axis=0)\n",
    "        \n",
    "        output_file_name = f\"processed_{file_name}\"\n",
    "        output_file_path = os.path.join(output_path, output_file_name)\n",
    "        df.drop(columns=['emb'], axis=1, inplace=True)\n",
    "        df.to_csv(output_file_path, index=False)\n",
    "        \n",
    "        # print(f\"processed {file_name=}, saved to {output_file_name=}\")"
   ]
  },
  {
   "cell_type": "code",
   "execution_count": 16,
   "metadata": {},
   "outputs": [],
   "source": [
    "dfs = []\n",
    "for file in os.listdir('SPMM/valid_molecules_with_emb_csv_LBPROB_PDSC_400/'):\n",
    "    curr_df = pd.read_csv('SPMM/valid_molecules_with_emb_csv_LBPROB_PDSC_400/' + file)\n",
    "    dfs.append(curr_df)"
   ]
  },
  {
   "cell_type": "code",
   "execution_count": 30,
   "metadata": {},
   "outputs": [],
   "source": [
    "df_final = pd.concat(dfs, axis=0)"
   ]
  },
  {
   "cell_type": "code",
   "execution_count": 31,
   "metadata": {},
   "outputs": [],
   "source": [
    "df_final = df_final.sort_values(by='PDSC', ascending=False)"
   ]
  },
  {
   "cell_type": "code",
   "execution_count": 32,
   "metadata": {},
   "outputs": [],
   "source": [
    "used = ['CCCCC(CC)COC(=O)CNc1cccc(OC)c1OC',\n",
    " 'CCCCCCCCCCCCN(C)Cc1cccc(NCC(O)c2ccc(OC)cc2)c1',\n",
    " 'CCNc1ccc(CN(C)CCOCCOC)cc1C',\n",
    " 'CCCN(CCC)CC(O)CNCc1ccc(-c2ccc(N(CC)CC)cc2)nc1',\n",
    " 'CCCCN(CCC)c1cc(CN(CCO)CCOC)cc(Nc2ccc(C)cc2)c1',\n",
    " 'CCOc1cc(C)c(CNCc2ccc(N(CC)CC)cc2)c(C)c1OCCNCC',\n",
    " 'CCc1ccc(N(C)CCC(=O)NCCCOC(C)C)cc1',\n",
    " 'CCc1ccc(N(CCO)CCOCc2cccc(CNC)c2)cc1',\n",
    " 'CCCCCCN(CCN(CC(C)C)CCC)c1ccc(Nc2n[nH]c(C)c2C)cc1',\n",
    " 'CCc1cccc(CC)c1NCC(O)CN(C)Cc1ccc(OC)cc1',\n",
    " 'CCCCCCC(O)CN(CC(O)c1ccccc1)Cc1ccc(N(CC)CC)cc1',\n",
    " 'CCCCCCCCCCCCN(CCO)c1ccc(NCc2ccc(N(C)C)cc2)cc1',\n",
    " 'CCCN(CCC)c1nc2ccccc2nc1NCCCN(CCC)CCCC',\n",
    " 'CCNC(=NCC(CC)(CC)CC)NCc1ccc(N(C)Cc2ccco2)cc1',\n",
    " 'Cc1c(CNCCCCCCNC(C)C)cccc1N(Cc1cccn1C)C(C)C',\n",
    " 'CCOCCCN(CCC)Cc1ccc(CNCCc2ccc(O)cc2)cc1',\n",
    " 'CCCOc1ccc(NC(C)CCCN(C)C)nc1',\n",
    " 'CCCCNC(CO)c1ccc(OCc2ccc(N(C)C)cc2)cc1',\n",
    " 'CCCCCCCCCCCCCCC(CO)Nc1ccc(-c2ccc(OC)cc2)cn1',\n",
    " 'CCCCN(C)c1ccc(NCC(C)(C)OC)nc1',\n",
    " 'CCCCCCN(CCO)c1ccc(NCCc2ccc(OC)cc2)cc1',\n",
    " 'CCN(CC)CCCNC(C)c1ccc(NCc2ccco2)cc1',\n",
    " 'CCCCN(CCCC)c1ccc(N(CCCC)CCCO)cc1NCCCO',\n",
    " 'CCCCCCCCC(CNC(=S)Nc1ccccc1)N(C)Cc1cccc(OC)c1',\n",
    " 'CCN(CC)CCCNCc1ccc(N(CC)CCCc2ccc(C)cc2)cc1',\n",
    " 'CCCCN(CCCC)c1cccc(NCC(O)c2cccn2C)c1',\n",
    " 'CCCCN(C)c1ccc(NC(=O)COC(C)C)cc1',\n",
    " 'CCCCN(CCCC)CC(O)CNC(C)c1ccc(N(CC)CC)c2ccccc12',\n",
    " 'CCCCCCCCN(CC(=O)OC)c1ccc(O)cc1',\n",
    " 'CCCCCCCCCCCCCCNc1cc(-c2ccc(N(C)C)cc2)c(CO)cn1',\n",
    " 'CCCCC(CC)CN(CCCCCC)c1nc(C)c(C)c(Nc2ccc(C)cc2)n1',\n",
    " 'CCCCCCN(CCO)c1ccc(-c2ccc(C(C)NC(C)CCC)cc2)nc1',\n",
    " 'CCCN(CCC)CCOc1cccc(CNCc2ccccc2O)c1',\n",
    " 'CCCCC(CC)CNC(=NC)NCC(c1ccc(OC)cc1)N(CC)c1ccccc1',\n",
    " 'CCCN(CCC)C(CO)c1ccc(NCCc2ccc(OC)cc2)cc1',\n",
    " 'CCCCN(CCC)c1ccc2cc(O)ccc2c1CN(CCC)CCCCNC',\n",
    " 'CCCCCCCCCCCCOc1ccc(-c2ccc(NCCO)c(OCC)c2)cc1',\n",
    " 'CCCCCCNCc1cncc(N(CCCCCC)Cc2cc(C)cc(C)c2)c1',\n",
    " 'CCCCCCCCCCc1cc2ccc(NCCCCCC)cc2n1CCN(C)C',\n",
    " 'CCCN(CCC)CCCNc1cc(N(CCC)CCC)c2ccccc2n1',\n",
    " 'CCCNCCCCN(CCCC)CCc1c[nH]c2cc(N(CC)CC)ccc12',\n",
    " 'CCc1cc(Cc2ccc(OCCCCCCN(CC)CC)cc2)c(O)c(C(C)C)c1O',\n",
    " 'CCCCCCCCCCCCCCCCNc1ncc(-c2ccc(N(C)C)cc2)[nH]1',\n",
    " 'CCCCCCN(CCCCCCCC)c1ccc(Nc2cc(CO)ccc2C)nc1',\n",
    " 'CCCCN(CCCC)CCCNCc1ccc(O)c2ncccc12',\n",
    " 'CCCCN(CCCC)CCNCCc1c(C)cc(C)cc1-c1ccc(N(C)C)cc1',\n",
    " 'CCc1ccc(NC(c2cccc(OC)c2O)N(C)CCC(C)C)cc1',\n",
    " 'CCNC(=NCc1ccc(N(CC)CC)cc1)NCCc1cccnc1',\n",
    " 'CCCCC(C)(C)CN(CCO)c1ccc(-c2ccc(OCCCCCC)cc2)cc1O',\n",
    " 'CCCCCCCCCCNCc1ccc(-c2ccc(N(CC)CC)cc2)nc1',\n",
    " 'CCCCCCCCc1ccc(N(CCCCC)c2ccc(N(CCO)CCO)cc2C)cc1',\n",
    " 'CCCCCCN(CCCCC)c1cc(CNCCC)cc(-c2ccc(C)cc2)n1',\n",
    " 'CCCN(CCC)c1ccc(NCC(O)c2ccc(OC)cc2)c(C)c1',\n",
    " 'CCCCCCN(CCCC)c1cc(CNC(C)CC)c(O)c(-c2ccccn2)c1',\n",
    " 'CCc1cc(CN(CCO)CCO)ccc1-c1ccc(N(CC)CC)cc1',\n",
    " 'CCCCCCCCCCCC(C)NC(=S)Nc1cc(C(C)(C)C)nn1Cc1ccccc1',\n",
    " 'Cc1cc(N(CCO)CCO)c(OCCC(C)C)c(-c2ccc(CCCCC)cc2)c1',\n",
    " 'CCCCN(CCCC)c1ccc(-c2ccc(CNCCCCCC)cc2)nc1',\n",
    " 'CCCCCCN(CCC)c1cc(CC)nc(NCc2ccc(CCCC)cc2)c1',\n",
    " 'CCCCCCCCCCNc1nc(CCCCCCC)cc(-c2ccc(C)cc2)n1',\n",
    " 'CCCCN(CCCC)c1nc(CC)c(CC)c(CC)c1-c1cc(C)c(C)cc1NC',\n",
    " 'CCCN(CCC)c1cc(CNC(C)C)c(-c2cc(C)c(C)cc2C)c(C)c1',\n",
    " 'CCCCN(CCCCCC)c1nc(C)cc(C)c1-c1c(C)cc(C)cc1CC',\n",
    " 'CCc1cc2c(NCCCN(CC)CC)ccc(N(CCC)CCC)c2cc1CC',\n",
    " 'CCCCCCc1c(CCCC)n(CCCCCC)c2ccc(NCCC)cc12',\n",
    " 'CCCCN(CCCC)c1nc(CC)c(CC)c(NCc2ccc(C)cc2)c1C',\n",
    " 'CCCCCCn1cc(CCCC)c(-c2ccc(CCCCCC)cc2)c1NCCC',\n",
    " 'CCCCCCN(CCCC)c1ccc(-c2[nH]c(C)c(C(C)C)c2CC)cc1',\n",
    " 'CCCCCCc1ccc(-c2ccc(N(CCCC)CCC)c(CNCCC)c2)cc1',\n",
    " 'CCCCCCN(CCCCCC)c1ccc(-c2ccc(NCCC)c(CC)c2)cc1',\n",
    " 'CCCCCCN(CCCC)c1nc(C)cc(Nc2c(C)cc(CC)cc2C)c1C',\n",
    " 'CCNc1nc(C)cc(-c2ccc(CN(CCC)CCCC)c(CC)c2)c1C',\n",
    " 'CCCCCCCCNc1c(CC)cc(-c2ccc(N(CCC)CCCC)cc2)cc1C',\n",
    " 'CCCCCCN(CCCCC)c1ccc(-c2[nH]c(C)c(C)c2CCCC)cc1',\n",
    " 'CCCCCN(CCCCC)c1ccc(-c2[nH]c(C)c(CCC)c2C)cc1',\n",
    " 'CCCCCCCCCNc1c(CC)c(CC)n(-c2ccc(C)cc2C)c1C',\n",
    " 'CCCCN(CCCC)c1cc(NC(CC)CC)cc(-c2ccc(CC)cc2)n1',\n",
    " 'CCCCCC(CC)N(Cc1ccccc1)Cc1c[nH]c2c(C)ccc(N(CC)CC)c12',\n",
    " 'CCCCCCN(CCCCCC)c1ccc(-c2[nH]c(CCCCC)nc2CC)cc1',\n",
    " 'CCCCCN(CCCCC)c1cc(CNCCC)cc(-c2ccc(C)cc2)c1',\n",
    " 'CCCN(CCC)c1cc(-c2ccc(NCCN(CC)CC)cc2)cc(C)c1C',\n",
    " 'CCCCN(CCCC)c1ccc(Nc2ccc(N(CC)CC)cc2C)c(C)c1',\n",
    " 'CCc1ccccc1NC(c1ccc(CC)cc1)c1c(C)cc(C)cc1C',\n",
    " 'CCCCCCCCN(CCCCC)c1nc(-c2cc(C)c(C)c(C)c2)c(C)[nH]1',\n",
    " 'CCCCCC(c1ccc(O)c(OCCCCCCC)c1)c1ccc(O)c(CCCC)c1',\n",
    " 'CCCCN(CCCC)c1nc(CC)c(CC)cc1CNCc1ccccc1',\n",
    " 'CCCCCCc1ccc(-c2ccc(NCCCCCC)c(OCCCCC)c2)cc1C',\n",
    " 'CCCCCCCc1c(C)cc(O)c(OCCCCC)c1CCCCCNCCCC',\n",
    " 'CCCCCCCCCCCCNc1nc(C)c(-c2ccc(C)cc2C)c(C)c1C',\n",
    " 'CCCCCCN(CCCCC)CCCNc1nc(-c2ccc(C)cc2)cc(C)c1C',\n",
    " 'CCCCCCCNCc1c(C)cc(-c2ccc(N(CC)CC)cc2)nc1C(C)C',\n",
    " 'CCCCCCCCCCCNc1nc(-c2cc(C)cc(C)c2)cc(C)c1C(C)C',\n",
    " 'CCCCCCN(CCCCCC)c1cc(CNCCc2ccc(C)cc2)cc(C)c1',\n",
    " 'CCCCCCN(CCCCC)Cc1cc(NCc2ccc(C)cc2C)cc(C)c1',\n",
    " 'CCC(C)NC(c1ccc(C)cc1)c1ccc2cc(N(CC)CC)ccc2c1',\n",
    " 'CCCCCCCCCCNc1cc(-c2ccc(N(CC)CC)cc2)cc(C)c1C',\n",
    " 'CCCCCCCCCCN(CC)c1cc(Nc2ccc(C)cc2C)cc(C)c1C',\n",
    " 'CCCN(CCC)Cc1ccc(-c2cnc(NCCCCCCCCC)c(CC)c2)cc1',\n",
    " 'CCCCCCCCCCc1nc(Nc2cc(C)cc(C)c2)cc(C)c1CCCCC',\n",
    " 'CCCCCCCCNCc1c(C)cc(C)cc1N(CCC)Cc1ccc(C)cc1',\n",
    " 'CCCCNCc1c(C)cc(C)cc1N(c1ccccc1)c1ccccc1',\n",
    " 'CCCCCN(CCO)c1ccccc1C',\n",
    " 'CCCCN(c1ccccc1)C(C)CCO',\n",
    " 'CCCCCCCCCCCCCCCCOc1c(O)c(OC)cc2ccccc12',\n",
    " 'CCCCCCCCN(CCCCCCCCCC)c1ccc(Nc2ccc(O)c(C)c2)cc1',\n",
    " 'CCCCCCCCN(CC(O)CO)c1ccc(-c2ccc(CCCC)cc2)cc1C',\n",
    " 'CCCCCCCCCCCCCN(CCCCO)c1ccc(-c2ccccc2O)cc1',\n",
    " 'CCCCCCCCCCn1c(C)c(C)c2cc(NCCN(C)C)ccc21',\n",
    " 'CCCCCCCCCc1c(C)[nH]c(-c2ccc(N(CC)CC)cc2)c1C',\n",
    " 'CCC(O)CCCCN(CC)c1ccccc1',\n",
    " 'CCCCCCCCN(CCCCCCCC)c1ccc(NCc2ccc(C)cc2C)cc1',\n",
    " 'Cc1c(CNCC(O)c2ccccc2)cccc1N(CC(C)C)CC(C)C',\n",
    " 'CCC(CC)(c1ccccc1)c1ccc(NCc2ccc(C)cc2)cn1',\n",
    " 'CCCCCCCCCCCCCOc1cc(CNC(C)C)c(O)c(C(C)(C)C)c1',\n",
    " 'CCCNC(Cc1ccc(N(CC)CC)cc1)c1cccc2ccccc12',\n",
    " 'Cc1ccccc1Nc1ccccc1',\n",
    " 'CCCC(C)NC(C)Cc1ccccc1O',\n",
    " 'CCCCCCCCCCCCCCCCNc1cc(-c2ccccc2)cc(C)n1',\n",
    " 'CCCCc1ccc(-c2cc(NC(CC)c3ccccc3)ccn2)cc1',\n",
    " 'Cc1ccc(C)c(O)c1C',\n",
    " 'CCCCCCCCCCCC(NCCC)c1ccc2cc(O)ccc2c1OCCC',\n",
    " 'CCCCCCCCCc1ccc(-c2ccc(N(CCO)CCO)cc2)cc1',\n",
    " 'CCCCCC(CCO)c1ccc(N(C)Cc2ccc(CNCCC)cc2)cc1CC',\n",
    " 'CCCCCCCCN(CCCCCCC)c1ccc(NCc2ccc(O)cc2)cc1',\n",
    " 'CCN(CC)CCCNC(c1ccccc1)c1ccc(O)c(OC)c1',\n",
    " 'CCCCCCCCCC(CN(CCO)Cc1ccccc1)c1ccc(O)cc1',\n",
    " 'CCCCCCCCCCCCCOc1ccccc1CNC(=S)Nc1ccc(CC)cc1',\n",
    " 'CCCCCCCCCCCCNC(=NCc1ccc(O)cc1)NCc1ccccc1',\n",
    " 'CCCCCCCCCCCCNCc1cc(-c2ccc(O)cc2)c(OC)c(CC)c1',\n",
    " 'CCCCCCCCOc1ccc(CNc2cc(C(C)(C)C)c(O)c(CC)c2)cc1',\n",
    " 'CCCCCCCCCCCCc1c(O)ccc2c(O)cc(OCCCCCCCC)cc12',\n",
    " 'CCCCCCCCCCc1nc(O)c(Cc2cc(C)c(O)cc2C)cc1CCCCC',\n",
    " 'CCCCCCCCNc1cc(-c2ccc(-c3ccc(CCCCCC)cc3)cc2)nc(C)n1',\n",
    " 'CCCCN(CCCC)c1ccc(-c2ccc(CNCCO)cc2)cc1',\n",
    " 'CCCCCCCCCCN(C)c1cc(CNCc2ccc(C)c(C)c2)cc(C)c1C',\n",
    " 'CCCC(C)CCc1ccc(-c2ccc(N(CCO)CCO)cc2)cc1',\n",
    " 'CNc1ccccc1-c1ccccc1',\n",
    " 'CNc1ccccc1-c1ccccc1',\n",
    " 'CNc1ccccc1-c1ccccc1',\n",
    " 'CCCCCCCCNc1nc(C)cc(C)c1-c1ccc(N(CCC)CCC)cc1',\n",
    " 'CCCCN(CCCC)c1ccc(-c2ccc(NCCO)cc2)cc1',\n",
    " 'CCNC(Cc1ccc(N(C)C)cc1)c1cc2cc(C)ccc2n1CC',\n",
    " 'COc1cc(C)c(CN(Cc2ccccc2O)CC(C)C)c(C)c1O',\n",
    " 'CCCN(CCC)c1ccc(-c2ccc(CNCCO)cc2)cc1',\n",
    " 'CCCCCCCCCCCCNC(=S)Nc1c(C)cc(C)cc1-c1ccccc1OC',\n",
    " 'CCCCCCCCCCCCN(c1ccc(O)cc1)c1ccc(O)c(C(C)(C)C)c1',\n",
    " 'CCCc1c(CC)c(CNC(C)Cc2ccc(O)cc2)c(C)n1C',\n",
    " 'CNc1ccccc1C',\n",
    " 'CCN(CC)c1ccc(-c2ccc(NC(C)c3ccc(C)cc3)cc2)cc1',\n",
    " 'CCCCN(CCC)CCOc1ccc(-c2cc(C(C)(C)C)c(O)c(C)c2)cc1',\n",
    " 'CCC(CC)CN(CC)CCN(CC)c1ccc(Nc2ccc(C)cc2C)cc1',\n",
    " 'CCc1cc(C)c(O)cc1C',\n",
    " 'CCCCC(C)c1ccc(O)c(OCC)c1',\n",
    " 'Cc1cc(C)c(O)c(C)c1',\n",
    " 'CNC(CCCCc1ccc(N(C)C)cc1)c1cccc2ccn(C)c12',\n",
    " 'CCCCN(CCCC)c1cc(CNCc2ccc(O)cc2)ccc1C',\n",
    " 'CCCc1c(O)cccc1C',\n",
    " 'CCc1cccc(O)c1C',\n",
    " 'CCc1cccc(O)c1C',\n",
    " 'CCc1cccc(O)c1C',\n",
    " 'CCCCCCCCCCCCCCCCNC(=S)Nc1ccccc1-n1cccc1',\n",
    " 'CCCCCCCCCCCCCNC(c1ccc(O)cc1)c1ccc(OC)cc1',\n",
    " 'Cc1cccc(O)c1C',\n",
    " 'CNc1cc(C)ccc1C',\n",
    " 'CCc1cc(C)cc(C)c1O',\n",
    " 'CCc1cc(C)cc(C)c1O',\n",
    " 'CCc1cc(O)c(C)cc1C',\n",
    " 'CCCCCCCCCCCc1cc(O)cc(-c2ccc(CO)c(CN(CC)CC)c2)c1',\n",
    " 'COCCc1ccccc1O',\n",
    " 'CCCCCCCCCCCCNCc1ccc(-c2ccc(N(C)C)cc2)cc1',\n",
    " 'CCc1c(O)cccc1C',\n",
    " 'CCc1c(O)cccc1C',\n",
    " 'CCc1c(O)cccc1C',\n",
    " 'CCCCCCN(CCCCC)c1cc2ccccc2cc1CNCCC',\n",
    " 'CCCCCCCCCCCCNc1c(C)cc(C)cc1-n1c(C)ccc1C',\n",
    " 'CCc1ccc(NC(c2ccc(CC)cc2)c2ccc(C)cc2)nc1',\n",
    " 'CCCCNCc1ccc(N(C)C)cc1',\n",
    " 'CCCCCCCCCc1ccc(O)cn1',\n",
    " 'CCc1ccc(CNCc2ccc(N(CC)CC)cc2)cc1',\n",
    " 'CCCCCCCCN(CCC)c1ccc(Nc2ccc(C(C)(C)C)cc2)cn1',\n",
    " 'CCN(CC)c1ccc(N(Cc2ccc(O)c(O)c2)C(C)C)cc1',\n",
    " 'CCc1cc(C)c(O)cc1',\n",
    " 'CCc1cc(C)c(O)cc1',\n",
    " 'CCc1cc(C)c(O)cc1',\n",
    " 'CCc1cc(C)c(O)cc1',\n",
    " 'CCc1cc(C)c(O)cc1',\n",
    " 'CCc1cc(C)c(O)cc1',\n",
    " 'CCc1cc(C)c(O)cc1',\n",
    " 'CCc1cc(C)c(O)cc1',\n",
    " 'CCc1cc(C)c(O)cc1',\n",
    " 'CCCc1ccc(OCCCNC(c2ccc(O)cc2)C(C)C)cc1',\n",
    " 'CCc1ccc(C)c(O)c1',\n",
    " 'CCc1ccc(C)c(O)c1',\n",
    " 'CCCCCN(CCCC)c1ccc(CNC(=S)NCCc2ccc(C)cc2)cc1',\n",
    " 'CCCCN(CCCO)Cc1ccc(NCc2ccc(C)cc2)cc1',\n",
    " 'CCc1cc(O)ccc1N(CC)CC',\n",
    " 'CCCCCCCCCCCNc1cc(-c2ccc(C(C)(C)C)cc2)cc(CO)c1',\n",
    " 'Cc1cccc(C)c1O',\n",
    " 'Cc1cccc(C)c1O',\n",
    " 'CCc1cc(C)ccc1O']"
   ]
  },
  {
   "cell_type": "code",
   "execution_count": 33,
   "metadata": {},
   "outputs": [],
   "source": [
    "df_final = df_final[~df_final['Smiles'].isin(used)]"
   ]
  },
  {
   "cell_type": "code",
   "execution_count": 34,
   "metadata": {},
   "outputs": [],
   "source": [
    "df_final = df_final.drop_duplicates()"
   ]
  },
  {
   "cell_type": "code",
   "execution_count": 36,
   "metadata": {},
   "outputs": [],
   "source": [
    "pd.DataFrame(df_final['Smiles']).to_csv('last_nodubles.csv', index=False)"
   ]
  }
 ],
 "metadata": {
  "kernelspec": {
   "display_name": "Python 3",
   "language": "python",
   "name": "python3"
  },
  "language_info": {
   "codemirror_mode": {
    "name": "ipython",
    "version": 3
   },
   "file_extension": ".py",
   "mimetype": "text/x-python",
   "name": "python",
   "nbconvert_exporter": "python",
   "pygments_lexer": "ipython3",
   "version": "3.10.6"
  },
  "orig_nbformat": 4,
  "vscode": {
   "interpreter": {
    "hash": "711a2f5f3af21a1efb9686d5a3155df72e36fd433f1db2809b2a4797f2adf2d0"
   }
  }
 },
 "nbformat": 4,
 "nbformat_minor": 2
}
