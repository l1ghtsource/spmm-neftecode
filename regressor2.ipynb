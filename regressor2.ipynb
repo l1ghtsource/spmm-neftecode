{
 "cells": [
  {
   "cell_type": "code",
   "execution_count": 1,
   "metadata": {},
   "outputs": [],
   "source": [
    "import pandas as pd"
   ]
  },
  {
   "cell_type": "code",
   "execution_count": 12,
   "metadata": {},
   "outputs": [
    {
     "name": "stdout",
     "output_type": "stream",
     "text": [
      "seed: 42\n",
      "Loading CSV data\n",
      "Creating model\n",
      "LOADING PRETRAINED MODEL..\n",
      "load checkpoint from ../checkpoint_SPMM.ckpt\n",
      "_IncompatibleKeys(missing_keys=[], unexpected_keys=['temp'])\n",
      "==================================================\n",
      "Generating SMILES embeddings...\n",
      "Processed 100/172 SMILES\n",
      "Processed 172/172 SMILES\n",
      "CSV with embeddings saved to lb170_embedded.csv\n",
      "==================================================\n"
     ]
    }
   ],
   "source": [
    "!cd SPMM && python \"smiles2emb.py\" --input_file \"../data/2025-04-12T12-32_export.csv\" --output_file \"lb170_embedded.csv\" --seed 42 --checkpoint \"../checkpoint_SPMM.ckpt\" --device \"cpu\""
   ]
  },
  {
   "cell_type": "code",
   "execution_count": 96,
   "metadata": {},
   "outputs": [],
   "source": [
    "data = pd.read_csv('SPMM/lb170_embedded.csv')"
   ]
  },
  {
   "cell_type": "code",
   "execution_count": 97,
   "metadata": {},
   "outputs": [],
   "source": [
    "data['emb'] = data['emb'].apply(lambda x: eval(x))\n",
    "data = data[['emb', 'PDSC']]"
   ]
  },
  {
   "cell_type": "code",
   "execution_count": 100,
   "metadata": {},
   "outputs": [],
   "source": [
    "data = data[data['PDSC'] != 0]"
   ]
  },
  {
   "cell_type": "code",
   "execution_count": 102,
   "metadata": {},
   "outputs": [],
   "source": [
    "import os\n",
    "import joblib\n",
    "import pandas as pd\n",
    "import numpy as np\n",
    "from catboost import CatBoostRegressor\n",
    "from sklearn.linear_model import Ridge\n",
    "from sklearn.decomposition import PCA\n",
    "from sklearn.model_selection import KFold\n",
    "from sklearn.metrics import mean_squared_error, mean_absolute_error, r2_score"
   ]
  },
  {
   "cell_type": "code",
   "execution_count": 103,
   "metadata": {},
   "outputs": [],
   "source": [
    "os.makedirs('models_ridge_170lb', exist_ok=True)\n",
    "\n",
    "emb_df = pd.DataFrame(data['emb'].tolist())\n",
    "emb_df.columns = [f'emb_{i}' for i in range(emb_df.shape[1])]\n",
    "X = emb_df\n",
    "\n",
    "y = data['PDSC']\n",
    "\n",
    "kf = KFold(n_splits=10, shuffle=True, random_state=42)\n",
    "oof_predictions_ridge = np.zeros(len(data))\n",
    "\n",
    "for fold, (train_index, test_index) in enumerate(kf.split(X)):\n",
    "    X_train, X_test = X.iloc[train_index], X.iloc[test_index]\n",
    "    y_train, y_test = y.iloc[train_index], y.iloc[test_index]\n",
    "\n",
    "    model_ridge = Ridge(random_state=42, alpha=5)\n",
    "    model_ridge.fit(X_train, y_train)\n",
    "\n",
    "    oof_predictions_ridge[test_index] = model_ridge.predict(X_test)\n",
    "\n",
    "    model_path = f'models_ridge_170lb/ridge_model_fold_{fold}.joblib'\n",
    "    joblib.dump(model_ridge, model_path)"
   ]
  },
  {
   "cell_type": "code",
   "execution_count": 104,
   "metadata": {},
   "outputs": [
    {
     "name": "stdout",
     "output_type": "stream",
     "text": [
      "\n",
      "Ridge Metrics\n",
      "- MSE: 1165.3725\n",
      "- RMSE: 34.1376\n",
      "- MAE: 24.5369\n",
      "- R²: 0.6540\n",
      "\n"
     ]
    }
   ],
   "source": [
    "mse = mean_squared_error(y, oof_predictions_ridge)\n",
    "rmse = np.sqrt(mse)\n",
    "mae = mean_absolute_error(y, oof_predictions_ridge)\n",
    "r2 = r2_score(y, oof_predictions_ridge)\n",
    "\n",
    "print(f'''\n",
    "Ridge Metrics\n",
    "- MSE: {mse:.4f}\n",
    "- RMSE: {rmse:.4f}\n",
    "- MAE: {mae:.4f}\n",
    "- R²: {r2:.4f}\n",
    "''')"
   ]
  }
 ],
 "metadata": {
  "kernelspec": {
   "display_name": "Python 3",
   "language": "python",
   "name": "python3"
  },
  "language_info": {
   "codemirror_mode": {
    "name": "ipython",
    "version": 3
   },
   "file_extension": ".py",
   "mimetype": "text/x-python",
   "name": "python",
   "nbconvert_exporter": "python",
   "pygments_lexer": "ipython3",
   "version": "3.10.6"
  },
  "orig_nbformat": 4,
  "vscode": {
   "interpreter": {
    "hash": "711a2f5f3af21a1efb9686d5a3155df72e36fd433f1db2809b2a4797f2adf2d0"
   }
  }
 },
 "nbformat": 4,
 "nbformat_minor": 2
}
